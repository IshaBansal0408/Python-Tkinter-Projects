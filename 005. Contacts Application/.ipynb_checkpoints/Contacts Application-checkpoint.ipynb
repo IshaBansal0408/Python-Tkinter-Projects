{
 "cells": [
  {
   "cell_type": "code",
   "execution_count": 1,
   "metadata": {},
   "outputs": [],
   "source": [
    "from tkinter import*\n",
    "from tkinter import messagebox"
   ]
  },
  {
   "cell_type": "code",
   "execution_count": 2,
   "metadata": {},
   "outputs": [],
   "source": [
    "root=Tk()\n",
    "root.title(\"Contacts\")\n",
    "root.geometry(\"350x600\")\n",
    "root.resizable(width=False,height=False)\n",
    "root.configure(bg=\"#cc3300\")\n",
    "\n",
    "l1=Label(root,text=\"Manage Contacts\",font=(\"Times New Roman\",30,\"bold\"),pady=10,bg=\"#cc3300\",fg=\"White\")\n",
    "l1.pack()\n",
    "\n",
    "v1=StringVar()\n",
    "l2=Label(root,text=\"Enter Contact Name:\",font=(\"Times New Roman\",15,\"bold\"),pady=10,bg=\"#cc3300\",fg=\"Black\")\n",
    "e1=Entry(root,font=(\"Times New Roman\",20,\"bold\"),textvariable=v1)\n",
    "l2.pack()\n",
    "e1.pack(pady=5)\n",
    "\n",
    "v2=IntVar()\n",
    "l3=Label(root,text=\"Enter Contact Number:\",font=(\"Times New Roman\",15,\"bold\"),pady=10,bg=\"#cc3300\",fg=\"Black\")\n",
    "e2=Entry(root,font=(\"Times New Roman\",20,\"bold\"),textvariable=v2)\n",
    "l3.pack()\n",
    "e2.pack(pady=5)\n",
    "\n",
    "b1=Button(root,text=\"Enter Contact\",font=(\"Times New Roman\",15,\"bold\"))\n",
    "b1.pack(pady=10)\n",
    "\n",
    "t=Text(height=15,width=40,state=\"disabled\")\n",
    "t.pack()\n",
    "\n",
    "b2=Button(root,text=\"Clear List\",font=(\"Times New Roman\",15,\"bold\"))\n",
    "b2.pack(pady=10)"
   ]
  },
  {
   "cell_type": "code",
   "execution_count": 3,
   "metadata": {},
   "outputs": [],
   "source": [
    "root.mainloop()"
   ]
  },
  {
   "cell_type": "code",
   "execution_count": null,
   "metadata": {},
   "outputs": [],
   "source": []
  }
 ],
 "metadata": {
  "kernelspec": {
   "display_name": "Python 3",
   "language": "python",
   "name": "python3"
  },
  "language_info": {
   "codemirror_mode": {
    "name": "ipython",
    "version": 3
   },
   "file_extension": ".py",
   "mimetype": "text/x-python",
   "name": "python",
   "nbconvert_exporter": "python",
   "pygments_lexer": "ipython3",
   "version": "3.7.0"
  }
 },
 "nbformat": 4,
 "nbformat_minor": 4
}
