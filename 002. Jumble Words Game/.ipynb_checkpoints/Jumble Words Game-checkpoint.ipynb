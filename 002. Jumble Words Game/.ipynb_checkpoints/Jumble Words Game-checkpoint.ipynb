{
 "cells": [
  {
   "cell_type": "code",
   "execution_count": 1,
   "metadata": {},
   "outputs": [],
   "source": [
    "from tkinter import*\n",
    "from tkinter import messagebox\n",
    "import random"
   ]
  },
  {
   "cell_type": "code",
   "execution_count": 2,
   "metadata": {},
   "outputs": [],
   "source": [
    "answers = [\"canada\", \"india\", \"america\", \"london\", \"delhi\", \n",
    "           \"germany\", \"bhutan\", \"russia\", \"australia\", \"brazil\", \n",
    "           \"beijing\",\"mexico\", \"mumbai\", \"tokyo\", \n",
    "           \"cairo\", \"japan\", \"france\", \"singapore\", \n",
    "           \"iran\", \"indonesia\", \"italy\", \"sweden\", \"korea\",\n",
    "           \"kolkata\", \"china\", \"nepal\", \"iraq\", \"burma\", \n",
    "           \"spain\", \"thailand\",\"norway\", \"chile\", \"greece\", \"venice\", \"turkey\"]\n",
    "words = [\"cdanaa\", \"aidin\", \"aiearcm\", \"odnlon\", \n",
    "         \"ilhde\", \"graeynm\", \"buahtn\", \"asisru\" ,\"asuaairlt\", \"bzairl\", \"binegij\",\n",
    "         \"xcmoie\", \"mmauib\", \"oyotk\", \"cioar\", \"ajnpa\", \"nfcare\", \n",
    "         \"gainsoerp\", \"nair\", \"iaoneinds\", \"atiyl\", \"needws\", \"areok\"\n",
    "         \"kaolatk\", \"incha\", \"lapen\", \"raiq\", \"bmaru\", \n",
    "         \"inaps\", \"laaithnd\", \"aywrno\", \"ichle\", \"eeecgr\", \"ceveni\", \"krueyt\"]"
   ]
  },
  {
   "cell_type": "code",
   "execution_count": 3,
   "metadata": {},
   "outputs": [],
   "source": [
    "num = random.randrange(0,34,1)\n",
    "def res():\n",
    "    global answers,words,num\n",
    "    num = random.randrange(0,35,1)\n",
    "    lb3.configure(text = words[num])\n",
    "    entryBox.delete(0, END)\n",
    "def default():\n",
    "    global answers,words,num\n",
    "    lbl.configure(text = words[num])\n",
    "def checkAns():\n",
    "    global answers,words,num\n",
    "    var = entryBox.get()\n",
    "    if var == answers[num]:\n",
    "        messagebox.showinfo(\"Success\",\"This is the correct answer!\")\n",
    "        res()\n",
    "    else:\n",
    "        messagebox.showerror(\"Error\",\"This is not correct!\")\t\n",
    "        entryBox.delete(0, END)"
   ]
  },
  {
   "cell_type": "code",
   "execution_count": 4,
   "metadata": {},
   "outputs": [],
   "source": [
    "root=Tk()\n",
    "root.title(\"Jumbled Words Game\")\n",
    "root.geometry(\"500x300\")\n",
    "root.resizable(width=False,height=False)\n",
    "root.configure(bg=\"orchid\")\n",
    "lb1 = Label(root, text=\"Welcome to Jumble Words Game!\", font=(\"Verdana\",12,\"bold\"),fg=\"black\",bg=\"orchid\")\n",
    "lb2 = Label(root, text=\"Here is your jumbled word:\", font=(\"Verdana\",12,\"bold\"),fg=\"yellow\",bg=\"orchid\")\n",
    "lb3 = Label(root, text=words[num], font=(\"Verdana\",12,\"bold\"),fg=\"black\",bg=\"orchid\")\n",
    "lb4 = Label(root, text=\"Enter your answer here:\", font=(\"Verdana\",12,\"bold\"),fg=\"red\",bg=\"orchid\")\n",
    "ans = StringVar()\n",
    "entryBox = Entry(root, font=(\"Verdana\",16), textvariable= ans)\n",
    "\n",
    "checkButton = Button(root, text=\"Check\", font=(\"Comic sans ms\",16), width = 15, bg=\"#4C4B4B\", fg=\"white\", relief= RAISED, command=checkAns)\n",
    "resetButton = Button(root, text=\"Reset\", font=(\"Comic sans ms\",16), width = 15, bg=\"#4C4B4B\", fg=\"white\", relief= RAISED, command=res)\n",
    "\n",
    "lb1.pack()\n",
    "lb2.pack()\n",
    "lb3.pack()\n",
    "lb4.pack()\n",
    "entryBox.pack(ipadx=5, ipady=5)\n",
    "checkButton.pack(pady=10)\n",
    "resetButton.pack()"
   ]
  },
  {
   "cell_type": "code",
   "execution_count": 5,
   "metadata": {},
   "outputs": [],
   "source": [
    "root.mainloop()"
   ]
  },
  {
   "cell_type": "code",
   "execution_count": null,
   "metadata": {},
   "outputs": [],
   "source": []
  }
 ],
 "metadata": {
  "kernelspec": {
   "display_name": "Python 3",
   "language": "python",
   "name": "python3"
  },
  "language_info": {
   "codemirror_mode": {
    "name": "ipython",
    "version": 3
   },
   "file_extension": ".py",
   "mimetype": "text/x-python",
   "name": "python",
   "nbconvert_exporter": "python",
   "pygments_lexer": "ipython3",
   "version": "3.7.0"
  }
 },
 "nbformat": 4,
 "nbformat_minor": 4
}
