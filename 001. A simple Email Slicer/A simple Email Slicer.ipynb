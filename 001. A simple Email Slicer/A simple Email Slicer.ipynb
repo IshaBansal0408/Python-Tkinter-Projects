{
 "cells": [
  {
   "cell_type": "markdown",
   "metadata": {},
   "source": [
    "# A simple Email Slicer"
   ]
  },
  {
   "cell_type": "code",
   "execution_count": 1,
   "metadata": {
    "scrolled": true
   },
   "outputs": [],
   "source": [
    "import tkinter as tk\n",
    "window = tk.Tk()"
   ]
  },
  {
   "cell_type": "code",
   "execution_count": 2,
   "metadata": {},
   "outputs": [],
   "source": [
    "def result():\n",
    "    try:\n",
    "        email=entry.get()\n",
    "        inp_email = email.strip()\n",
    "        username = inp_email[0:inp_email.index('@')]\n",
    "        domain = inp_email[inp_email.index('@') + 1:]\n",
    "        text_box.delete('1.0', tk.END)\n",
    "        msg = 'Email entered was: {}\\nYour email username is {}\\nAnd your email domain server is {}'\n",
    "        msg_formatted = msg.format(email,username,domain)\n",
    "        text_box.insert(tk.END,msg_formatted)\n",
    "        entry.delete(0, 'end')\n",
    "    except:\n",
    "        text_box.delete('1.0', tk.END)\n",
    "        text_box.insert(tk.END,\"ERROR!\")\n",
    "def reset_all():\n",
    "    text_box.delete('1.0', tk.END)\n",
    "    entry.delete(0, 'end')"
   ]
  },
  {
   "cell_type": "code",
   "execution_count": 3,
   "metadata": {},
   "outputs": [],
   "source": [
    "# Labels\n",
    "greeting = tk.Label(text=\"Welcome to A Simple Email Slicer!\")\n",
    "entry_label = tk.Label(text=\"Enter Your Email Id: \")\n",
    "result_label = tk.Label(text=\"The results are as follows:\")\n",
    "\n",
    "#Entry\n",
    "e1=tk.StringVar()\n",
    "entry = tk.Entry(width=20,justify='center',textvariable=e1)\n",
    "\n",
    "#Buttons\n",
    "button = tk.Button(text=\"Click me!\",command=result)\n",
    "reset=tk.Button(text=\"Reset!\",command=reset_all)\n",
    "\n",
    "#Result\n",
    "text_box = tk.Text(height=5,width=50)\n",
    "\n",
    "#Packing Everything Together\n",
    "greeting.pack()\n",
    "entry_label.pack()\n",
    "entry.pack()\n",
    "button.pack()\n",
    "reset.pack()\n",
    "result_label.pack()\n",
    "text_box.pack()"
   ]
  },
  {
   "cell_type": "code",
   "execution_count": 4,
   "metadata": {},
   "outputs": [],
   "source": [
    "window.geometry(\"500x240\")\n",
    "window.title('Simple Email Slicer')\n",
    "window.mainloop()"
   ]
  },
  {
   "cell_type": "code",
   "execution_count": null,
   "metadata": {},
   "outputs": [],
   "source": []
  }
 ],
 "metadata": {
  "kernelspec": {
   "display_name": "Python 3",
   "language": "python",
   "name": "python3"
  },
  "language_info": {
   "codemirror_mode": {
    "name": "ipython",
    "version": 3
   },
   "file_extension": ".py",
   "mimetype": "text/x-python",
   "name": "python",
   "nbconvert_exporter": "python",
   "pygments_lexer": "ipython3",
   "version": "3.7.0"
  }
 },
 "nbformat": 4,
 "nbformat_minor": 4
}
