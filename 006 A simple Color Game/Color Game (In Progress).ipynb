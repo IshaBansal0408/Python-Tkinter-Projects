{
 "cells": [
  {
   "cell_type": "code",
   "execution_count": 1,
   "metadata": {},
   "outputs": [],
   "source": [
    "from tkinter import*\n",
    "from tkinter import messagebox\n",
    "import random"
   ]
  },
  {
   "cell_type": "code",
   "execution_count": 2,
   "metadata": {},
   "outputs": [],
   "source": [
    "colors=['Red','Blue','Green','Pink','Black','Yellow','Orange','White','Purple','Brown']\n",
    "time_left=30\n",
    "score=0"
   ]
  },
  {
   "cell_type": "code",
   "execution_count": 3,
   "metadata": {},
   "outputs": [],
   "source": [
    "def dec_time():\n",
    "    global time_left\n",
    "    if(time_left>0):\n",
    "        time_left-=1\n",
    "        t.configure(text=\"Time left: \"+str(time_left))\n",
    "        t.start(1000,dec_time)"
   ]
  },
  {
   "cell_type": "code",
   "execution_count": 4,
   "metadata": {},
   "outputs": [],
   "source": [
    "root=Tk()\n",
    "root.title(\"Color Game\")\n",
    "root.geometry(\"600x300\")\n",
    "root.resizable(width=False,height=False)\n",
    "root.configure(bg=\"#F9E79F\")\n",
    "\n",
    "n1=random.randint(0,len(colors)-1)\n",
    "n2=random.randint(0,len(colors)-1)\n",
    "l1=Label(root,text=\"WELCOME TO COLOR GAME!\",font=(\"Verdana\",25,\"bold\"),fg=\"Black\",bg=\"#F9E79F\")\n",
    "l2=Label(root,text=\"Enter the color of the text!\",font=(\"Verdana\",15,\"bold\"),fg=\"Black\",bg=\"#F9E79F\")\n",
    "l3=Label(root,text=colors[n1],fg=colors[n2],font=(\"Verdana\",20,\"bold\"))\n",
    "\n",
    "ans=StringVar()\n",
    "entryBox = Entry(root, font=(\"Verdana\",16), textvariable= ans)\n",
    "\n",
    "t=Label(root,text=\"Time left: \"+str(time_left))\n",
    "\n",
    "l1.pack()\n",
    "l2.pack()\n",
    "l3.pack()\n",
    "entryBox.pack(pady=10)"
   ]
  },
  {
   "cell_type": "code",
   "execution_count": 5,
   "metadata": {},
   "outputs": [],
   "source": [
    "root.mainloop()"
   ]
  },
  {
   "cell_type": "code",
   "execution_count": null,
   "metadata": {},
   "outputs": [],
   "source": []
  }
 ],
 "metadata": {
  "kernelspec": {
   "display_name": "Python 3",
   "language": "python",
   "name": "python3"
  },
  "language_info": {
   "codemirror_mode": {
    "name": "ipython",
    "version": 3
   },
   "file_extension": ".py",
   "mimetype": "text/x-python",
   "name": "python",
   "nbconvert_exporter": "python",
   "pygments_lexer": "ipython3",
   "version": "3.7.0"
  }
 },
 "nbformat": 4,
 "nbformat_minor": 4
}
