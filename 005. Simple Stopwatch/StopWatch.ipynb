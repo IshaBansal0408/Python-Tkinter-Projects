{
 "cells": [
  {
   "cell_type": "markdown",
   "metadata": {},
   "source": [
    "# StopWatch Tkinter"
   ]
  },
  {
   "cell_type": "code",
   "execution_count": 1,
   "metadata": {},
   "outputs": [],
   "source": [
    "#initial run state is False\n",
    "run_state=False\n",
    "\n",
    "# Make a function to increment count\n",
    "count=-1\n",
    "def inc_count(l4):\n",
    "    val=e1.get()\n",
    "    def get_value():\n",
    "        if run_state:\n",
    "            global count\n",
    "            if(count==-1):\n",
    "                display=\"Starting\"\n",
    "            else:\n",
    "                if(count==val):\n",
    "                    Stop()\n",
    "                else:\n",
    "                    display=str(count)\n",
    "                print(count,display,val)\n",
    "            l4['text']=display\n",
    "            #apply the function on l4 after every 1 second\n",
    "            l4.after(1000,get_value)\n",
    "            count+=1\n",
    "    get_value()"
   ]
  },
  {
   "cell_type": "code",
   "execution_count": 2,
   "metadata": {},
   "outputs": [],
   "source": [
    "def Start(l4):\n",
    "    #make running state as True\n",
    "    global run_state\n",
    "    run_state=True\n",
    "    inc_count(l4)\n",
    "    # make start button disabled\n",
    "    b1['state']='disabled'"
   ]
  },
  {
   "cell_type": "code",
   "execution_count": 3,
   "metadata": {},
   "outputs": [],
   "source": [
    "def Stop():\n",
    "    global run_state\n",
    "    run_state=False\n",
    "    b1['state']='normal'\n",
    "    b2['state']='disabled'"
   ]
  },
  {
   "cell_type": "code",
   "execution_count": 6,
   "metadata": {},
   "outputs": [],
   "source": [
    "from tkinter import*\n",
    "from tkinter import messagebox\n",
    "root=Tk()\n",
    "root.title(\"StopWatch\")\n",
    "root.geometry(\"500x250\")\n",
    "root.resizable(width=False,height=False)\n",
    "root.configure(bg=\"#1AC5C5\")\n",
    "\n",
    "l1=Label(text=\"Welcome to StopWatch Application\",font=('Helvetica',20,\"bold\"))\n",
    "l1.pack(pady=5)\n",
    "l2=Label(text=\"Enter the number you want to count till :\",font=('Helvetica',15,\"bold\"),bg=\"#1AC5C5\")\n",
    "l2.place(x=5,y=50)\n",
    "\n",
    "v1=IntVar()\n",
    "e1=Entry(width=5, textvariable=v1,font=('Helvetica',16,\"bold\"),justify=\"center\")\n",
    "e1.place(x=410,y=50)\n",
    "\n",
    "l3=Label(text=\"Current State of StopWatch: \",font=('Helvetica',15,\"bold\"),bg=\"#1AC5C5\")\n",
    "l3.place(x=20,y=100)\n",
    "l4=Label(root,text=\"0\",font=('Helvetica',15,\"bold\"))\n",
    "l4.place(x=300,y=100)\n",
    "\n",
    "b1=Button(text=\"Start\",font=('Helvetica',15,\"bold\"),width=10,command=lambda: Start(l4))\n",
    "b1.place(x=40,y=150)\n",
    "b2=Button(text=\"Stop\",font=('Helvetica',15,\"bold\"),width=10,command=Stop)\n",
    "b2.place(x=180,y=150)\n",
    "b3=Button(text=\"Reset\",font=('Helvetica',15,\"bold\"),width=10)\n",
    "b3.place(x=320,y=150)\n",
    "b4=Button(text=\"Exit Application\",font=('Helvetica',15,\"bold\"))\n",
    "b4.place(x=160,y=200)\n",
    "\n",
    "root.mainloop()"
   ]
  },
  {
   "cell_type": "code",
   "execution_count": null,
   "metadata": {},
   "outputs": [],
   "source": []
  }
 ],
 "metadata": {
  "kernelspec": {
   "display_name": "Python 3",
   "language": "python",
   "name": "python3"
  },
  "language_info": {
   "codemirror_mode": {
    "name": "ipython",
    "version": 3
   },
   "file_extension": ".py",
   "mimetype": "text/x-python",
   "name": "python",
   "nbconvert_exporter": "python",
   "pygments_lexer": "ipython3",
   "version": "3.7.0"
  }
 },
 "nbformat": 4,
 "nbformat_minor": 4
}
