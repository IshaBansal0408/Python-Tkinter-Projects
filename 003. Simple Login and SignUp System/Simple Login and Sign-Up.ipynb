{
 "cells": [
  {
   "cell_type": "code",
   "execution_count": 1,
   "metadata": {},
   "outputs": [],
   "source": [
    "usernames=open('username.txt','w') \n",
    "passwords=open('password.txt','w')"
   ]
  },
  {
   "cell_type": "code",
   "execution_count": 2,
   "metadata": {},
   "outputs": [],
   "source": [
    "def check_cred():\n",
    "    usernames=open('username.txt','r') \n",
    "    passwords=open('password.txt','r')\n",
    "    u_list=usernames.read().split('\\n')\n",
    "    p_list=passwords.read().split('\\n')\n",
    "    cur_u=e1.get()\n",
    "    cur_p=e2.get()\n",
    "    \n",
    "    if(cur_u==''or cur_p==''):\n",
    "        messagebox.showerror(\"Error\",\"Username or Password can't be empty!\")\n",
    "    elif (cur_u not in u_list) or (cur_p not in p_list):\n",
    "        messagebox.showerror(\"Error\",\"Invalid Request!\\nPlease SignUp!\")\n",
    "        e1.delete(0, END)\n",
    "        e2.delete(0, END)\n",
    "    else:\n",
    "        messagebox.showinfo('showinfo',\"Login successful!\")"
   ]
  },
  {
   "cell_type": "code",
   "execution_count": 3,
   "metadata": {},
   "outputs": [],
   "source": [
    "def sign_up():\n",
    "    usernames=open('username.txt','r') \n",
    "    passwords=open('password.txt','r')\n",
    "    u_list=usernames.read().split('\\n')\n",
    "    p_list=passwords.read().split('\\n')   \n",
    "    cur_u=e1.get()\n",
    "    cur_p=e2.get()\n",
    "    if(cur_u==''or cur_p==''):\n",
    "            messagebox.showerror(\"Error\",\"Username or Password can't be empty!\")\n",
    "    else:\n",
    "        if (cur_u in u_list):\n",
    "            messagebox.showerror(\"Error\",\"Username Taken!\\nEnter New one!\")\n",
    "            e1.delete(0, END)\n",
    "            e2.delete(0, END)\n",
    "        else:\n",
    "            usernames=open('username.txt','a') \n",
    "            passwords=open('password.txt','a')\n",
    "            usernames.write(cur_u+\"\\n\")\n",
    "            passwords.write(cur_p+\"\\n\")\n",
    "            messagebox.showinfo('showinfo',\"Username and password added!\\nYou can login now.\")"
   ]
  },
  {
   "cell_type": "code",
   "execution_count": 4,
   "metadata": {},
   "outputs": [],
   "source": [
    "from tkinter import*\n",
    "from tkinter import messagebox"
   ]
  },
  {
   "cell_type": "code",
   "execution_count": 5,
   "metadata": {},
   "outputs": [],
   "source": [
    "root=Tk()\n",
    "root.title(\"Login-SignUp Page\")\n",
    "root.geometry(\"549x300\")\n",
    "root.resizable(width=False,height=False)\n",
    "root.configure(bg=\"#1ABC9C\")\n",
    "\n",
    "lb1 = Label(root, text=\"Enter your Username and Password\", font=(\"Verdana\",20,\"bold\"),fg=\"#21618C\",bg=\"#F1C40F\")\n",
    "lb2 = Label(root, text=\"Enter your Username:\", font=(\"Verdana\",15,\"bold\"),fg=\"#F9E79F\",bg=\"#1ABC9C\")\n",
    "lb3 = Label(root, text=\"Enter your Password:\", font=(\"Verdana\",15,\"bold\"),fg=\"#F9E79F\",bg=\"#1ABC9C\")\n",
    "\n",
    "u=StringVar()\n",
    "p=StringVar()\n",
    "e1 = Entry(root, font=(\"Verdana\",15), textvariable= u)\n",
    "e2 = Entry(root, font=(\"Verdana\",15), textvariable= p)\n",
    "\n",
    "b1 = Button(root, text=\"Login\", font=(\"Comic sans ms\",10), width = 15, bg=\"#4C4B4B\", fg=\"white\", relief= RAISED,command=check_cred)\n",
    "b2 = Button(root, text=\"SignUp\", font=(\"Comic sans ms\",10), width = 15, bg=\"#4C4B4B\", fg=\"white\", relief= RAISED,command=sign_up)\n",
    "\n",
    "lb1.pack()\n",
    "lb2.place(x=0,y=50)\n",
    "lb3.place(x=0,y=90)\n",
    "e1.place(x=260,y=50)\n",
    "e2.place(x=260,y=90)\n",
    "b1.place(x=120,y=130)\n",
    "b2.place(x=270,y=130)"
   ]
  },
  {
   "cell_type": "code",
   "execution_count": 6,
   "metadata": {},
   "outputs": [],
   "source": [
    "root.mainloop()"
   ]
  },
  {
   "cell_type": "raw",
   "metadata": {},
   "source": []
  }
 ],
 "metadata": {
  "kernelspec": {
   "display_name": "Python 3",
   "language": "python",
   "name": "python3"
  },
  "language_info": {
   "codemirror_mode": {
    "name": "ipython",
    "version": 3
   },
   "file_extension": ".py",
   "mimetype": "text/x-python",
   "name": "python",
   "nbconvert_exporter": "python",
   "pygments_lexer": "ipython3",
   "version": "3.7.0"
  }
 },
 "nbformat": 4,
 "nbformat_minor": 4
}
