{
 "cells": [
  {
   "cell_type": "code",
   "execution_count": 1,
   "metadata": {},
   "outputs": [],
   "source": [
    "from tkinter import*\n",
    "from tkinter import messagebox"
   ]
  },
  {
   "cell_type": "code",
   "execution_count": 2,
   "metadata": {},
   "outputs": [],
   "source": [
    "file=open('To_Do List.txt','a')"
   ]
  },
  {
   "cell_type": "code",
   "execution_count": 3,
   "metadata": {},
   "outputs": [],
   "source": [
    "def show_task():\n",
    "    t.configure(state='normal')\n",
    "    t.delete('1.0', END)\n",
    "    file=open('To_Do List.txt','r')\n",
    "    data=file.readlines()\n",
    "    for x in data:\n",
    "        t.insert(END,x)\n",
    "    t.configure(state='disabled')\n",
    "    file.close()"
   ]
  },
  {
   "cell_type": "code",
   "execution_count": 4,
   "metadata": {},
   "outputs": [],
   "source": [
    "def add_task():\n",
    "    t.configure(state='normal')\n",
    "    t.delete('1.0', END)\n",
    "    count=0\n",
    "    file=open('To_Do List.txt','r')\n",
    "    for x in file.readlines():\n",
    "        count=count+1\n",
    "    \n",
    "    file=open('To_Do List.txt','a')\n",
    "    new=e1.get()\n",
    "    file.write(str(count+1)+\"\\t\"+new+\"\\n\")\n",
    "    \n",
    "    file=open('To_Do List.txt','r')\n",
    "    data=file.readlines()\n",
    "    for x in data:\n",
    "        t.insert(END,x)\n",
    "    \n",
    "    t.configure(state='disabled')\n",
    "    file.close()"
   ]
  },
  {
   "cell_type": "code",
   "execution_count": 5,
   "metadata": {},
   "outputs": [],
   "source": [
    "def remove_task():\n",
    "    t.configure(state='normal')\n",
    "    t.delete('1.0', END)\n",
    "    \n",
    "    temp=[]\n",
    "    file=open('To_Do List.txt','r')\n",
    "    for x in file.readlines():\n",
    "        temp.append(x)\n",
    "\n",
    "    no=e2.get()\n",
    "    file=open('To_Do List.txt','w')\n",
    "    for i in temp:\n",
    "        if(not i.startswith(str(no))):\n",
    "            file.write(i)  \n",
    "    \n",
    "    file=open('To_Do List.txt','r')\n",
    "    data=file.readlines()\n",
    "    for x in data:\n",
    "        t.insert(END,x)\n",
    "    \n",
    "    t.configure(state='disabled')\n",
    "    file.close()"
   ]
  },
  {
   "cell_type": "code",
   "execution_count": 6,
   "metadata": {},
   "outputs": [],
   "source": [
    "def clear():\n",
    "    t.configure(state='normal')\n",
    "    t.delete('1.0', END)\n",
    "    file=open('To_Do List.txt','w')\n",
    "    t.configure(state='disabled')\n",
    "    file.close()"
   ]
  },
  {
   "cell_type": "code",
   "execution_count": 7,
   "metadata": {},
   "outputs": [],
   "source": [
    "def exit():\n",
    "    exitmsg=messagebox.askyesno(\"EXIT TO-DO List?\",\"Please Confirm!\")\n",
    "    if exitmsg>0:\n",
    "        root.destroy()\n",
    "        return"
   ]
  },
  {
   "cell_type": "code",
   "execution_count": 8,
   "metadata": {},
   "outputs": [],
   "source": [
    "root=Tk()\n",
    "root.title(\"To_Do List\")\n",
    "root.geometry(\"860x620\")\n",
    "root.resizable(width=False,height=False)\n",
    "root.configure(bg=\"#21618C\")"
   ]
  },
  {
   "cell_type": "code",
   "execution_count": 9,
   "metadata": {},
   "outputs": [],
   "source": [
    "lb1 = Label(root, text=\"Welcome to the To-Do List!\", font=(\"Verdana\",20,\"bold\"),fg=\"#21618C\",bg=\"#F1C40F\")\n",
    "lb2 = Label(root, text=\"Enter Task here: \", font=(\"Verdana\",15,\"bold\"),fg=\"#F9E79F\",bg=\"#1ABC9C\")\n",
    "lb3 = Label(root, text=\"Here is your current To-Do List\", font=(\"Verdana\",15,\"bold\"))\n",
    "lb4 = Label(root, text=\"Enter task number to marked as done: \", font=(\"Verdana\",15,\"bold\"))\n",
    "\n",
    "task=StringVar()\n",
    "number=IntVar()\n",
    "e1 = Entry(root, font=(\"Verdana\",16),width=50,textvariable=task)\n",
    "e2 = Entry(root, font=(\"Verdana\",17),width=10,textvariable=number)\n",
    "\n",
    "b1 = Button(root, text=\"Enter Task\", font=(\"Comic sans ms\",10), width = 20, bg=\"#C0392B\", fg=\"white\", relief= RAISED,command=add_task)\n",
    "b2 = Button(root, text=\"Show Tasks\", font=(\"Comic sans ms\",10), width = 20, bg=\"#C0392B\", fg=\"white\", relief= RAISED,command=show_task)\n",
    "b3 = Button(root, text=\"Update List\", font=(\"Comic sans ms\",10), width = 20,bg=\"#C0392B\", fg=\"white\", relief= RAISED,command=remove_task)\n",
    "b4 = Button(root, text=\"Clear List\", font=(\"Comic sans ms\",10), width = 20, bg=\"#C0392B\", fg=\"white\", relief= RAISED,command=clear)\n",
    "b5 = Button(root, text=\"Exit Application\", font=(\"Comic sans ms\",10), width = 20,bg=\"#C0392B\", fg=\"white\", relief= RAISED,command=exit)\n",
    "\n",
    "t=Text(width=105,height=20,state=DISABLED)\n",
    "\n",
    "lb1.place(x=200,y=0)\n",
    "lb2.place(x=0,y=50)\n",
    "e1.place(x=200,y=50)\n",
    "b2.place(x=50,y=85)\n",
    "b1.place(x=250,y=85)\n",
    "lb3.place(x=200,y=125)\n",
    "t.place(x=10,y=160)\n",
    "lb4.place(x=10,y=510)\n",
    "e2.place(x=460,y=510)\n",
    "b3.place(x=620,y=510)\n",
    "b4.place(x=250,y=550)\n",
    "b5.place(x=430,y=550)"
   ]
  },
  {
   "cell_type": "code",
   "execution_count": 10,
   "metadata": {},
   "outputs": [],
   "source": [
    "root.mainloop()"
   ]
  },
  {
   "cell_type": "code",
   "execution_count": null,
   "metadata": {},
   "outputs": [],
   "source": []
  }
 ],
 "metadata": {
  "kernelspec": {
   "display_name": "Python 3",
   "language": "python",
   "name": "python3"
  },
  "language_info": {
   "codemirror_mode": {
    "name": "ipython",
    "version": 3
   },
   "file_extension": ".py",
   "mimetype": "text/x-python",
   "name": "python",
   "nbconvert_exporter": "python",
   "pygments_lexer": "ipython3",
   "version": "3.7.0"
  }
 },
 "nbformat": 4,
 "nbformat_minor": 4
}
