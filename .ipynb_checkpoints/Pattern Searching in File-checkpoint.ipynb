{
 "cells": [
  {
   "cell_type": "code",
   "execution_count": 19,
   "metadata": {},
   "outputs": [
    {
     "name": "stdout",
     "output_type": "stream",
     "text": [
      "1 Line Number\n",
      "2 Line Number\n",
      "3 Line Number\n",
      "4 Line Number\n",
      "5 Line Number\n",
      "6 Line Number\n",
      "7 Line Number\n",
      "8 Line Number\n",
      "9 Line Number\n",
      "10 Line Number\n"
     ]
    }
   ],
   "source": [
    "testfile=open('Test_File.txt','w')\n",
    "for i in range(10):\n",
    "     testfile.write(str(i+1)+\" Line Number\"+\"\\n\")\n",
    "testfile=open('Test_File.txt','r')\n",
    "data=testfile.readlines()\n",
    "for x in data:\n",
    "    print(x,end=\"\")"
   ]
  },
  {
   "cell_type": "code",
   "execution_count": 20,
   "metadata": {},
   "outputs": [],
   "source": [
    "import re"
   ]
  },
  {
   "cell_type": "code",
   "execution_count": null,
   "metadata": {},
   "outputs": [],
   "source": []
  }
 ],
 "metadata": {
  "kernelspec": {
   "display_name": "Python 3",
   "language": "python",
   "name": "python3"
  },
  "language_info": {
   "codemirror_mode": {
    "name": "ipython",
    "version": 3
   },
   "file_extension": ".py",
   "mimetype": "text/x-python",
   "name": "python",
   "nbconvert_exporter": "python",
   "pygments_lexer": "ipython3",
   "version": "3.7.0"
  }
 },
 "nbformat": 4,
 "nbformat_minor": 4
}
