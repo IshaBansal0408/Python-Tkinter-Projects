{
 "cells": [
  {
   "cell_type": "code",
   "execution_count": 1,
   "metadata": {},
   "outputs": [],
   "source": [
    "from tkinter import*"
   ]
  },
  {
   "cell_type": "code",
   "execution_count": 2,
   "metadata": {},
   "outputs": [],
   "source": [
    "usernames=open('To_Do List.txt','a') "
   ]
  },
  {
   "cell_type": "code",
   "execution_count": null,
   "metadata": {},
   "outputs": [],
   "source": []
  },
  {
   "cell_type": "code",
   "execution_count": 57,
   "metadata": {},
   "outputs": [],
   "source": [
    "root=Tk()\n",
    "root.title(\"To_Do List\")\n",
    "root.geometry(\"860x620\")\n",
    "root.resizable(width=False,height=False)\n",
    "root.configure(bg=\"#21618C\")"
   ]
  },
  {
   "cell_type": "code",
   "execution_count": 58,
   "metadata": {},
   "outputs": [],
   "source": [
    "lb1 = Label(root, text=\"Welcome to the To-Do List!\", font=(\"Verdana\",20,\"bold\"),fg=\"#21618C\",bg=\"#F1C40F\")\n",
    "lb2 = Label(root, text=\"Enter Task here: \", font=(\"Verdana\",15,\"bold\"),fg=\"#F9E79F\",bg=\"#1ABC9C\")\n",
    "lb3 = Label(root, text=\"Here is your current To-Do List\", font=(\"Verdana\",15,\"bold\"))\n",
    "lb4 = Label(root, text=\"Enter task number to marked as done: \", font=(\"Verdana\",15,\"bold\"))\n",
    "\n",
    "e1 = Entry(root, font=(\"Verdana\",16),width=50)\n",
    "e2 = Entry(root, font=(\"Verdana\",17),width=10)\n",
    "\n",
    "b1 = Button(root, text=\"Enter Task\", font=(\"Comic sans ms\",10), width = 50, bg=\"#C0392B\", fg=\"white\", relief= RAISED)\n",
    "b2 = Button(root, text=\"Enter Task\", font=(\"Comic sans ms\",10), width = 50, bg=\"#C0392B\", fg=\"white\", relief= RAISED)\n",
    "b3 = Button(root, text=\"Update List\", font=(\"Comic sans ms\",10), width = 20,bg=\"#C0392B\", fg=\"white\", relief= RAISED)\n",
    "b4 = Button(root, text=\"Clear List\", font=(\"Comic sans ms\",10), width = 20, bg=\"#C0392B\", fg=\"white\", relief= RAISED)\n",
    "b5 = Button(root, text=\"Exit Application\", font=(\"Comic sans ms\",10), width = 20,bg=\"#C0392B\", fg=\"white\", relief= RAISED)\n",
    "\n",
    "t=Text(width=105,height=20)\n",
    "\n",
    "lb1.place(x=200,y=0)\n",
    "lb2.place(x=0,y=50)\n",
    "e1.place(x=200,y=50)\n",
    "b1.place(x=200,y=85)\n",
    "lb3.place(x=200,y=125)\n",
    "t.place(x=10,y=160)\n",
    "lb4.place(x=10,y=510)\n",
    "e2.place(x=460,y=510)\n",
    "b3.place(x=620,y=510)\n",
    "b4.place(x=250,y=550)\n",
    "b5.place(x=430,y=550)"
   ]
  },
  {
   "cell_type": "code",
   "execution_count": 59,
   "metadata": {},
   "outputs": [],
   "source": [
    "root.mainloop()"
   ]
  },
  {
   "cell_type": "code",
   "execution_count": null,
   "metadata": {},
   "outputs": [],
   "source": []
  }
 ],
 "metadata": {
  "kernelspec": {
   "display_name": "Python 3",
   "language": "python",
   "name": "python3"
  },
  "language_info": {
   "codemirror_mode": {
    "name": "ipython",
    "version": 3
   },
   "file_extension": ".py",
   "mimetype": "text/x-python",
   "name": "python",
   "nbconvert_exporter": "python",
   "pygments_lexer": "ipython3",
   "version": "3.7.0"
  }
 },
 "nbformat": 4,
 "nbformat_minor": 4
}
